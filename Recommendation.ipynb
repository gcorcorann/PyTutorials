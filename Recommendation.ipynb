{
 "cells": [
  {
   "cell_type": "markdown",
   "metadata": {},
   "source": [
    "# Recommendation Engine for Restaurants based on Yelp Reviews\n",
    "## Author: Gary Corcoran\n",
    "## Date: Dec. 9th, 2017\n",
    "# Reference\n",
    "https://nick-morgan.github.io/Python-Recommendation-Engine-Yelp/"
   ]
  },
  {
   "cell_type": "code",
   "execution_count": 2,
   "metadata": {
    "collapsed": true
   },
   "outputs": [],
   "source": [
    "import pandas as pd\n",
    "import numpy as np\n",
    "import time\n",
    "import json\n",
    "\n",
    "def json_to_csv(directory, filenames, create_sample=False):\n",
    "    \"\"\"\n",
    "    Converts specified json file to csv.\n",
    "    \n",
    "    Loops through specified JSON files and converts them to csv files.\n",
    "    Option to also create a sample csv, which uses np.random.seed(9001)\n",
    "    to create a sample dataset with 10% of the observations.\n",
    "    \n",
    "    @param  directory:     directory of json files\n",
    "    @param  file_names:    list of json filenames\n",
    "    @param  create_sample: create random sample dataset flag\n",
    "    \"\"\"\n",
    "    start = time.time()\n",
    "    json_data = []\n",
    "    \n",
    "    for filename in filenames:\n",
    "        with open(directory + filename, encoding='utf8') as file:\n",
    "            print('{} opened'.format(filename))\n",
    "            for line in file:\n",
    "                # use rstrip because some of the files having trailing\n",
    "                # blank spaces\n",
    "                json_data.append(json.loads(line.rstrip()))\n",
    "        \n",
    "        df = pd.DataFrame.from_dict(json_data)\n",
    "        csv_filename = filename[:len(filename)-5] + '.csv'\n",
    "        df.to_csv(directory + csv_filename)\n",
    "        print('{} created'.format(csv_filename))\n",
    "        \n",
    "        if create_sample:\n",
    "            np.random.seed(9001)\n",
    "            msk = np.random.rand(len(df)) <= 0.1\n",
    "            sample = df[msk]\n",
    "            \n",
    "            csv_sample_filename = filename[:len(filename)-5] + '_sample.csv'\n",
    "            sample.to_csv(directory + csv_sample_filename)\n",
    "            print('{} created'.format(csv_sample_filename))\n",
    "        \n",
    "    print('This function took {} minutes to run.'.format(\n",
    "        (time.time()-start)/60)\n",
    "         )\n",
    "    "
   ]
  },
  {
   "cell_type": "code",
   "execution_count": 3,
   "metadata": {},
   "outputs": [
    {
     "name": "stdout",
     "output_type": "stream",
     "text": [
      "user.json opened\n",
      "user.csv created\n",
      "user_sample.csv created\n",
      "This function took 1.905851928393046 minutes to run.\n"
     ]
    }
   ],
   "source": [
    "file_list = ['business.json', 'review.json', 'user.json']\n",
    "json_to_csv('datasets/yelp/', file_list, create_sample=True)"
   ]
  },
  {
   "cell_type": "code",
   "execution_count": 4,
   "metadata": {},
   "outputs": [
    {
     "ename": "NameError",
     "evalue": "name 'business' is not defined",
     "output_type": "error",
     "traceback": [
      "\u001b[0;31m---------------------------------------------------------------------------\u001b[0m",
      "\u001b[0;31mNameError\u001b[0m                                 Traceback (most recent call last)",
      "\u001b[0;32m<ipython-input-4-793071e28a90>\u001b[0m in \u001b[0;36m<module>\u001b[0;34m()\u001b[0m\n\u001b[1;32m      1\u001b[0m \u001b[0;31m# create a mask for restaurants\u001b[0m\u001b[0;34m\u001b[0m\u001b[0;34m\u001b[0m\u001b[0m\n\u001b[0;32m----> 2\u001b[0;31m \u001b[0mmask_restaurants\u001b[0m \u001b[0;34m=\u001b[0m \u001b[0mbusiness\u001b[0m\u001b[0;34m[\u001b[0m\u001b[0;34m'categories'\u001b[0m\u001b[0;34m]\u001b[0m\u001b[0;34m.\u001b[0m\u001b[0mstr\u001b[0m\u001b[0;34m.\u001b[0m\u001b[0mcontains\u001b[0m\u001b[0;34m(\u001b[0m\u001b[0;34m'Restaurants'\u001b[0m\u001b[0;34m)\u001b[0m\u001b[0;34m\u001b[0m\u001b[0m\n\u001b[0m\u001b[1;32m      3\u001b[0m \u001b[0;34m\u001b[0m\u001b[0m\n\u001b[1;32m      4\u001b[0m \u001b[0;31m# create a mask for food\u001b[0m\u001b[0;34m\u001b[0m\u001b[0;34m\u001b[0m\u001b[0m\n\u001b[1;32m      5\u001b[0m \u001b[0mmask_food\u001b[0m \u001b[0;34m=\u001b[0m \u001b[0mbusiness\u001b[0m\u001b[0;34m[\u001b[0m\u001b[0;34m'categories'\u001b[0m\u001b[0;34m]\u001b[0m\u001b[0;34m.\u001b[0m\u001b[0mstr\u001b[0m\u001b[0;34m.\u001b[0m\u001b[0mcontains\u001b[0m\u001b[0;34m(\u001b[0m\u001b[0;34m'Food'\u001b[0m\u001b[0;34m)\u001b[0m\u001b[0;34m\u001b[0m\u001b[0m\n",
      "\u001b[0;31mNameError\u001b[0m: name 'business' is not defined"
     ]
    }
   ],
   "source": [
    "# create a mask for restaurants\n",
    "mask_restaurants = business['categories'].str.contains('Restaurants')\n",
    "\n",
    "# create a mask for food\n",
    "mask_food = business['categories'].str.contains('Food')\n",
    "\n",
    "# apply both masks\n",
    "restaurants_and_food = business[mask_restaurants & mask_food]\n",
    "\n",
    "# number of businessses that have food and restaurant in their category\n",
    "restaurants_and_food['categories'].count()"
   ]
  },
  {
   "cell_type": "code",
   "execution_count": null,
   "metadata": {
    "collapsed": true
   },
   "outputs": [],
   "source": []
  }
 ],
 "metadata": {
  "kernelspec": {
   "display_name": "Python 3",
   "language": "python",
   "name": "python3"
  },
  "language_info": {
   "codemirror_mode": {
    "name": "ipython",
    "version": 3
   },
   "file_extension": ".py",
   "mimetype": "text/x-python",
   "name": "python",
   "nbconvert_exporter": "python",
   "pygments_lexer": "ipython3",
   "version": "3.6.1"
  }
 },
 "nbformat": 4,
 "nbformat_minor": 2
}
