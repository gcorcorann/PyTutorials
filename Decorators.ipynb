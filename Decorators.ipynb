{
 "cells": [
  {
   "cell_type": "markdown",
   "metadata": {},
   "source": [
    "# Python Decorators From the Ground Up.\n",
    "## Author: Gary Corcoran\n",
    "## Date:  Dec. 8th, 2017\n",
    "\n",
    "### Reference:\n",
    "https://pabloariasal.github.io/python-decorators-from-the-ground-up/"
   ]
  },
  {
   "cell_type": "markdown",
   "metadata": {},
   "source": [
    "## The Algorithm of Love"
   ]
  },
  {
   "cell_type": "code",
   "execution_count": 16,
   "metadata": {
    "collapsed": true
   },
   "outputs": [],
   "source": [
    "import time\n",
    "\n",
    "def hottie_lookup(search_criteria):\n",
    "    \"\"\"\n",
    "    Basic Algorithm.\n",
    "    \"\"\"\n",
    "    print('Querying hotties dataset...')\n",
    "    search_results = []\n",
    "    # simulate algorithm to find hot singles\n",
    "    time.sleep(2)\n",
    "    return search_results\n",
    "\n",
    "def gardener_lookup(search_criteria):\n",
    "    \"\"\"\n",
    "    Basic Algorithm.\n",
    "    \"\"\"\n",
    "    print('Querying gardeners dataset...')\n",
    "    search_results = []\n",
    "    # simulate algorithm to find hot singles\n",
    "    time.sleep(2)\n",
    "    return search_results\n",
    "\n",
    "def hotties_lookup_stats(search_criteria):\n",
    "    \"\"\"\n",
    "    Add Function Statistics.\n",
    "    \"\"\"\n",
    "    print('Request was made:', search_criteria)\n",
    "    current_time = time.time()\n",
    "\n",
    "    print('Querying hotties dataset...')\n",
    "    search_results = []\n",
    "    # simulate algorithm to find hot singles\n",
    "    time.sleep(2)\n",
    "    \n",
    "    print('Request took {:.1f}s'.format(time.time()-current_time))\n",
    "    print('Matching entries found:', search_results)\n",
    "\n",
    "    return search_results\n",
    "\n",
    "def gardener_lookup_stats(search_criteria):\n",
    "    \"\"\"\n",
    "    Add Function Statistics.\n",
    "    \"\"\"\n",
    "    print('Request was made:', search_criteria)\n",
    "    current_time = time.time()\n",
    "\n",
    "    print('Querying gardeners dataset...')\n",
    "    search_results = []\n",
    "    # simulate algorithm to find hot singles\n",
    "    time.sleep(2)\n",
    "    \n",
    "    print('Request took {:.1f}s'.format(time.time()-current_time))\n",
    "    print('Matching entries found:', search_results)\n",
    "\n",
    "    return search_results"
   ]
  },
  {
   "cell_type": "markdown",
   "metadata": {},
   "source": [
    "## Wrapper Functions"
   ]
  },
  {
   "cell_type": "code",
   "execution_count": 17,
   "metadata": {
    "collapsed": true
   },
   "outputs": [],
   "source": [
    "def hotties_lookup_timed(search_criteria):\n",
    "    \"\"\" Adds time statistics to basic function. \"\"\"\n",
    "    current_time = time.time()\n",
    "    # call original unchaged hottie_lookup\n",
    "    search_results = hottie_lookup(search_criteria)\n",
    "    print('Request took {:.1f}s'.format(time.time()-current_time))\n",
    "    return search_results\n",
    "\n",
    "def hotties_lookup_logged(search_criteria):\n",
    "    \"\"\" Calls timed function and adds request statistics. \"\"\"\n",
    "    print('Request was made:', search_criteria)\n",
    "    search_results = hotties_lookup_timed(search_criteria)\n",
    "    print('Matching entries found:', search_results)\n",
    "    return search_results"
   ]
  },
  {
   "cell_type": "markdown",
   "metadata": {},
   "source": [
    "## Functions Are First Class Citizens"
   ]
  },
  {
   "cell_type": "code",
   "execution_count": 18,
   "metadata": {},
   "outputs": [
    {
     "name": "stdout",
     "output_type": "stream",
     "text": [
      "Querying hotties dataset...\n",
      "Request took 2.0s\n"
     ]
    },
    {
     "data": {
      "text/plain": [
       "[]"
      ]
     },
     "execution_count": 18,
     "metadata": {},
     "output_type": "execute_result"
    }
   ],
   "source": [
    "def timer(func):\n",
    "    def inner_func(*args, **kwargs):\n",
    "        current_time = time.time()\n",
    "        result = func(*args, **kwargs)\n",
    "        print('Request took {:.1f}s'.format(time.time()-current_time))\n",
    "        return result\n",
    "    return inner_func\n",
    "\n",
    "hotties_lookup_timed = timer(hottie_lookup)\n",
    "gardener_lookup_time = timer(gardener_lookup)\n",
    "\n",
    "hotties_lookup_timed(['latino', 'computer scientist'])"
   ]
  },
  {
   "cell_type": "markdown",
   "metadata": {},
   "source": [
    "### Generalizing with \\*args and \\*\\*kwargs"
   ]
  },
  {
   "cell_type": "code",
   "execution_count": 19,
   "metadata": {
    "collapsed": true
   },
   "outputs": [],
   "source": [
    "def timer(func):\n",
    "    def inner_func(*args, **kwargs):\n",
    "        current_time = time.time()\n",
    "        result = func(*args, **kwargs)\n",
    "        print('Request took {:.1f}s'.format(time.time()-current_time))\n",
    "        return result\n",
    "    return inner_func"
   ]
  },
  {
   "cell_type": "markdown",
   "metadata": {},
   "source": [
    "## Leaving Callers Unchanged"
   ]
  },
  {
   "cell_type": "code",
   "execution_count": 20,
   "metadata": {},
   "outputs": [
    {
     "name": "stdout",
     "output_type": "stream",
     "text": [
      "Querying hotties dataset...\n",
      "Request took 2.0s\n"
     ]
    }
   ],
   "source": [
    "# leaving callers unchanged\n",
    "hotties_lookup = timer(hottie_lookup)\n",
    "gardeners_lookup = timer(gardener_lookup)\n",
    "\n",
    "hotties_lookup(['latino', 'computer scientist'])\n",
    "# above expression is equivalent to\n",
    "@timer\n",
    "def hotties_lookup(search_criteria):\n",
    "    pass"
   ]
  },
  {
   "cell_type": "markdown",
   "metadata": {},
   "source": [
    "## Putting It All Together"
   ]
  },
  {
   "cell_type": "code",
   "execution_count": 23,
   "metadata": {},
   "outputs": [
    {
     "name": "stdout",
     "output_type": "stream",
     "text": [
      "Request was made with criteria: ['latino', 'compute scientist']\n",
      "Querying hotties database...\n",
      "Request took 2.0s\n",
      "Matching entries found: []\n",
      "\n",
      "Request was made with criteria: ['bush sculpture', 'semilegal botany']\n",
      "Querying gardeners database...\n",
      "Request took 2.0s\n",
      "Matching entries found: []\n"
     ]
    },
    {
     "data": {
      "text/plain": [
       "[]"
      ]
     },
     "execution_count": 23,
     "metadata": {},
     "output_type": "execute_result"
    }
   ],
   "source": [
    "import time\n",
    "\n",
    "def logger(func):\n",
    "    def inner_func(search_criteria):\n",
    "        print('Request was made with criteria:', search_criteria)\n",
    "        result = func(search_criteria)\n",
    "        print('Matching entries found:', result)\n",
    "        return result\n",
    "    return inner_func\n",
    "\n",
    "def timer(func):\n",
    "    def inner_func(search_criteria):\n",
    "        current_time = time.time()\n",
    "        result = func(search_criteria)\n",
    "        print('Request took {:.1f}s'.format(time.time()-current_time))\n",
    "        return result\n",
    "    return inner_func\n",
    "\n",
    "# decorate functions\n",
    "@logger\n",
    "@timer\n",
    "def hottie_lookup(search_criteria):\n",
    "    print('Querying hotties database...')\n",
    "    search_results = []\n",
    "    # simulate algorithm to find hot singles\n",
    "    time.sleep(2)\n",
    "    return search_results\n",
    "\n",
    "@logger\n",
    "@timer\n",
    "def gardener_lookup(search_criteria):\n",
    "    print('Querying gardeners database...')\n",
    "    search_results = []\n",
    "    # simulate algorithm to find skillful gardeners\n",
    "    time.sleep(2)\n",
    "    return search_results\n",
    "\n",
    "hottie_lookup(['latino', 'compute scientist'])\n",
    "print()\n",
    "gardener_lookup(['bush sculpture', 'semilegal botany'])"
   ]
  },
  {
   "cell_type": "code",
   "execution_count": null,
   "metadata": {
    "collapsed": true
   },
   "outputs": [],
   "source": []
  }
 ],
 "metadata": {
  "kernelspec": {
   "display_name": "Python 3",
   "language": "python",
   "name": "python3"
  },
  "language_info": {
   "codemirror_mode": {
    "name": "ipython",
    "version": 3
   },
   "file_extension": ".py",
   "mimetype": "text/x-python",
   "name": "python",
   "nbconvert_exporter": "python",
   "pygments_lexer": "ipython3",
   "version": "3.6.1"
  }
 },
 "nbformat": 4,
 "nbformat_minor": 2
}
